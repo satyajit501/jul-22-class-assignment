{
 "cells": [
  {
   "cell_type": "code",
   "execution_count": 1,
   "metadata": {},
   "outputs": [],
   "source": [
    "#if else\n"
   ]
  },
  {
   "cell_type": "code",
   "execution_count": 2,
   "metadata": {},
   "outputs": [
    {
     "name": "stdout",
     "output_type": "stream",
     "text": [
      "greater\n"
     ]
    }
   ],
   "source": [
    "x=10\n",
    "if x<11:\n",
    "    print(\"greater\")\n",
    "else:\n",
    "    print(\"smaller\")"
   ]
  },
  {
   "cell_type": "code",
   "execution_count": 4,
   "metadata": {},
   "outputs": [
    {
     "name": "stdout",
     "output_type": "stream",
     "text": [
      "smaller\n"
     ]
    }
   ],
   "source": [
    "x=100\n",
    "if x<11:\n",
    "    print(\"greater\")\n",
    "else:\n",
    "    print(\"smaller\")"
   ]
  },
  {
   "cell_type": "code",
   "execution_count": 10,
   "metadata": {},
   "outputs": [
    {
     "name": "stdout",
     "output_type": "stream",
     "text": [
      "45\n",
      "bye\n"
     ]
    }
   ],
   "source": [
    "x=int(input())\n",
    "if x>=10 and x%5==0 and x%2==0:\n",
    "    print(\"hlw\")\n",
    "else:\n",
    "    print(\"bye\")"
   ]
  },
  {
   "cell_type": "code",
   "execution_count": 9,
   "metadata": {},
   "outputs": [
    {
     "name": "stdout",
     "output_type": "stream",
     "text": [
      "56\n",
      "hlw\n"
     ]
    }
   ],
   "source": [
    "x=int(input())\n",
    "if x>=10 or x%5==0 or x%2==0:\n",
    "    print(\"hlw\")\n",
    "else:\n",
    "    print(\"bye\")"
   ]
  },
  {
   "cell_type": "code",
   "execution_count": 11,
   "metadata": {},
   "outputs": [
    {
     "name": "stdout",
     "output_type": "stream",
     "text": [
      "type your total mark : 50\n",
      "type your science mark : 30\n",
      "Congrats you placed in c2\n"
     ]
    }
   ],
   "source": [
    "t_m= int(input(\"type your total mark : \"))\n",
    "s_m=int(input(\"type your science mark : \"))\n",
    "\n",
    "if t_m>=80 and s_m>=90:\n",
    "    print(\"Congrats you placed in c1\")\n",
    "elif t_m>=50 and s_m>=30:\n",
    "    print(\"Congrats you placed in c2\")\n",
    "elif t_m>=30:\n",
    "    print(\"Congrats you placed in c3\")\n",
    "else:\n",
    "    print(\"Better luck next time.\")"
   ]
  },
  {
   "cell_type": "code",
   "execution_count": 1,
   "metadata": {},
   "outputs": [
    {
     "name": "stdout",
     "output_type": "stream",
     "text": [
      "enter a no. : 36\n",
      "bye, enter again.\n"
     ]
    }
   ],
   "source": [
    "#Q-7 ---- Write a program to display \"Hello\" if a number entered by user is a multiple of five , \n",
    "#otherwise print \"Bye\".\n",
    "\n",
    "x= int(input(\"enter a no. : \"))\n",
    "if x%5==0:\n",
    "    print(\"hye: its divisible.\")\n",
    "else:\n",
    "    print(\"bye, enter again.\")"
   ]
  },
  {
   "cell_type": "code",
   "execution_count": 2,
   "metadata": {},
   "outputs": [
    {
     "name": "stdout",
     "output_type": "stream",
     "text": [
      "enter how many units :350\n",
      "you have bill of :  2000\n"
     ]
    }
   ],
   "source": [
    "#Q-8 -- Write a program to calculate the electricity bill (accept number of unit from user) according to the following criteria :\n",
    "#    Unit                                                     Price  \n",
    "#First 100 units                                               no charge\n",
    "#Next 100 units                                              Rs 5 per unit\n",
    "#After 200 units                                             Rs 10 per unit\n",
    "#(For example if input unit is 350 than total bill amount is Rs2000)\n",
    "\n",
    "\n",
    "x=int(input(\"enter how many units :\"))\n",
    "\n",
    "y=0\n",
    "\n",
    "if x<=100:\n",
    "    print(\"no charge\")\n",
    "    \n",
    "elif x>100 and x<=200:\n",
    "    print(\"you have bill of : \", (x-100)*5 )\n",
    "    \n",
    "elif x>200:\n",
    "    print(\"you have bill of : \", 500+(x-200)*10)\n",
    "    "
   ]
  },
  {
   "cell_type": "code",
   "execution_count": 3,
   "metadata": {},
   "outputs": [
    {
     "name": "stdout",
     "output_type": "stream",
     "text": [
      "enter a number : 21\n",
      "the last digit is not divisible by 3\n"
     ]
    }
   ],
   "source": [
    "#Q-10 --- Write a program to check whether the last digit of a number( entered by user ) is \n",
    "#divisible by 3 or not.\n",
    "\n",
    "x=int(input(\"enter a number : \"))\n",
    "\n",
    "y= x%10\n",
    "\n",
    "if y%3==0:\n",
    "    print(\"the last digit is divisible by 3\")\n",
    "else:\n",
    "    print(\"the last digit is not divisible by 3\")"
   ]
  },
  {
   "cell_type": "code",
   "execution_count": 4,
   "metadata": {},
   "outputs": [
    {
     "name": "stdout",
     "output_type": "stream",
     "text": [
      "enter your percentage : 50\n",
      "your grade is D\n"
     ]
    }
   ],
   "source": [
    "#Q-1 --- Write a program to accept percentage from the user and display the grade according to the following criteria:\n",
    "\n",
    "#         Marks                                    Grade\n",
    "#         > 90                                        A\n",
    "#         > 80 and <= 90                              B\n",
    "#         >= 60 and <= 80                             C\n",
    "#         below 60                                    D\n",
    "\n",
    "\n",
    "x= int(input(\"enter your percentage : \"))\n",
    "\n",
    "if x>90:\n",
    "    print(\"your grade is A\")\n",
    "elif x>80 and x<=90:\n",
    "    print(\"your grade is B\")\n",
    "elif x>=60 and x<=80:\n",
    "    print(\"your grade is c\")\n",
    "else:\n",
    "    print(\"your grade is D\")"
   ]
  },
  {
   "cell_type": "code",
   "execution_count": 5,
   "metadata": {},
   "outputs": [
    {
     "name": "stdout",
     "output_type": "stream",
     "text": [
      "Enter the cost price of your bike : 40000\n",
      "your road tax is :  2000.0\n"
     ]
    }
   ],
   "source": [
    "#Q-2 ---- Write a program to accept the cost price of a bike and display the road tax to be paid according to the following criteria :\n",
    "    \n",
    "#        Cost price (in Rs)                                       Tax\n",
    "#        > 100000                                                  15 %\n",
    "#        > 50000 and <= 100000                                     10%\n",
    "#        <= 50000             \n",
    "#                                                                 5%\n",
    "\n",
    "\n",
    "x= int(input(\"Enter the cost price of your bike : \"))\n",
    "\n",
    "if x>100000:\n",
    "    print(\"your road tax is : \", x*15/100)\n",
    "elif x>50000 and x<=100000:\n",
    "    print(\"your road tax is : \", x*10/100)\n",
    "elif x<=50000:\n",
    "    print(\"your road tax is : \", x*5/100)"
   ]
  },
  {
   "cell_type": "code",
   "execution_count": 6,
   "metadata": {},
   "outputs": [
    {
     "name": "stdout",
     "output_type": "stream",
     "text": [
      "enter your age : 19\n",
      "you are elligible for voting\n"
     ]
    }
   ],
   "source": [
    "#Q-4 -- Write a program to check whether a person is eligible for voting or not. (accept age from user)\n",
    "\n",
    "x= int(input(\"enter your age : \"))\n",
    "\n",
    "if x>=18:\n",
    "    print(\"you are elligible for voting\")\n",
    "else:\n",
    "    print(\"you are not elligible for voting\")"
   ]
  },
  {
   "cell_type": "code",
   "execution_count": 7,
   "metadata": {},
   "outputs": [
    {
     "name": "stdout",
     "output_type": "stream",
     "text": [
      "enter a number :22\n",
      "this no. is even\n"
     ]
    }
   ],
   "source": [
    "#Q-5 --- Write a program to check whether a number entered by user is even or odd.\n",
    "\n",
    "\n",
    "x= int(input(\"enter a number :\"))\n",
    "\n",
    "if x%2==0:\n",
    "    print(\"this no. is even\")\n",
    "else:\n",
    "    print(\"this no. is odd\")"
   ]
  },
  {
   "cell_type": "code",
   "execution_count": 8,
   "metadata": {},
   "outputs": [
    {
     "name": "stdout",
     "output_type": "stream",
     "text": [
      "enter a number :49\n",
      "this no. is divisible by 7\n"
     ]
    }
   ],
   "source": [
    "#Q-6 --- Write a program to check whether a number is divisible by 7 or not.\n",
    "\n",
    "\n",
    "x= int(input(\"enter a number :\"))\n",
    "\n",
    "if x%7==0:\n",
    "    print(\"this no. is divisible by 7\")\n",
    "else:\n",
    "    print(\"this no. is not divisible by 7\")"
   ]
  },
  {
   "cell_type": "code",
   "execution_count": 9,
   "metadata": {},
   "outputs": [
    {
     "name": "stdout",
     "output_type": "stream",
     "text": [
      "enter a no. 155256\n",
      "the last digit is : 6\n"
     ]
    }
   ],
   "source": [
    "#Q9 ---- Write a program to display the last digit of a number.\n",
    "#(hint : any number % 10 will return the last digit)\n",
    "\n",
    "x= int(input(\"enter a no. \"))\n",
    "y= x%10\n",
    "\n",
    "print(\"the last digit is :\", y)"
   ]
  },
  {
   "cell_type": "code",
   "execution_count": null,
   "metadata": {},
   "outputs": [],
   "source": []
  }
 ],
 "metadata": {
  "kernelspec": {
   "display_name": "Python 3",
   "language": "python",
   "name": "python3"
  },
  "language_info": {
   "codemirror_mode": {
    "name": "ipython",
    "version": 3
   },
   "file_extension": ".py",
   "mimetype": "text/x-python",
   "name": "python",
   "nbconvert_exporter": "python",
   "pygments_lexer": "ipython3",
   "version": "3.7.0"
  }
 },
 "nbformat": 4,
 "nbformat_minor": 2
}
